{
 "cells": [
  {
   "attachments": {},
   "cell_type": "markdown",
   "metadata": {},
   "source": [
    "SETS"
   ]
  },
  {
   "cell_type": "code",
   "execution_count": 61,
   "metadata": {},
   "outputs": [],
   "source": [
    "#set is an unordered collection data type that is iterable, mutable, and has no duplicate elements\n",
    "#set can be used to perform mathematical set operation like union, intersection, etc...\n"
   ]
  },
  {
   "cell_type": "code",
   "execution_count": 11,
   "metadata": {},
   "outputs": [
    {
     "name": "stdout",
     "output_type": "stream",
     "text": [
      "{1, 2, 3}\n",
      "{3, 5, 6}\n",
      "{}\n"
     ]
    }
   ],
   "source": [
    "#declarig set\n",
    "s = set([1,2,'hi',3,'bye'])\n",
    "set1=set((1,2,3)) #create SET with set()\n",
    "set2={3,5,6}\n",
    "set3={} # empty set\n",
    "print(set1)\n",
    "print(set2)\n",
    "print(set3)\n"
   ]
  },
  {
   "cell_type": "code",
   "execution_count": 14,
   "metadata": {},
   "outputs": [
    {
     "name": "stdout",
     "output_type": "stream",
     "text": [
      "1\n",
      "2\n",
      "3\n",
      "hi\n",
      "bye\n"
     ]
    }
   ],
   "source": [
    "#prinitng the elements in the set\n",
    "\n",
    "for i in s: # the order can be chanegd while prinitng\n",
    "    print(i)\n"
   ]
  },
  {
   "cell_type": "code",
   "execution_count": 15,
   "metadata": {},
   "outputs": [
    {
     "name": "stdout",
     "output_type": "stream",
     "text": [
      "True\n"
     ]
    }
   ],
   "source": [
    "print(2 in s) #membership operation"
   ]
  },
  {
   "cell_type": "code",
   "execution_count": null,
   "metadata": {},
   "outputs": [],
   "source": [
    "#Elements in the sets cannot be accessed using indexing and hence modifiying is not possible\n",
    "#using del() we can delete the set"
   ]
  },
  {
   "cell_type": "code",
   "execution_count": 18,
   "metadata": {},
   "outputs": [
    {
     "name": "stdout",
     "output_type": "stream",
     "text": [
      "{1, 2, 3, 4, 5}\n"
     ]
    }
   ],
   "source": [
    "# add() - adds an element in the set\n",
    "s = {1,2,4,5}\n",
    "s.add(3)\n",
    "print(s)"
   ]
  },
  {
   "cell_type": "code",
   "execution_count": 19,
   "metadata": {},
   "outputs": [
    {
     "name": "stdout",
     "output_type": "stream",
     "text": [
      "{1, 2, 3, 4, 5, 6}\n"
     ]
    }
   ],
   "source": [
    "#update() - updates the set with the union of itself and others\n",
    "\n",
    "a = {1,2,3}\n",
    "b = {4,5,6}\n",
    "a.update(b)\n",
    "print(a)"
   ]
  },
  {
   "cell_type": "code",
   "execution_count": 20,
   "metadata": {},
   "outputs": [
    {
     "name": "stdout",
     "output_type": "stream",
     "text": [
      "{1, 2, 4, 5}\n"
     ]
    }
   ],
   "source": [
    "#copy() - retruns a copy of the set\n",
    "s = {1,2,4,5}\n",
    "s1 = s.copy()\n",
    "print(s1)\n"
   ]
  },
  {
   "cell_type": "code",
   "execution_count": 21,
   "metadata": {},
   "outputs": [
    {
     "name": "stdout",
     "output_type": "stream",
     "text": [
      "None\n"
     ]
    }
   ],
   "source": [
    "#clear() - Removes all the element in the set\n",
    "set2={3,5,6}\n",
    "print(set2.clear())\n"
   ]
  },
  {
   "cell_type": "code",
   "execution_count": 22,
   "metadata": {},
   "outputs": [
    {
     "name": "stdout",
     "output_type": "stream",
     "text": [
      "{5, 6, 7, 8, 9}\n"
     ]
    }
   ],
   "source": [
    "#remove() - removes the element in the set\n",
    "set4={3,5,6,7,8,9}\n",
    "set4.remove(3)\n",
    "print(set4)\n"
   ]
  },
  {
   "cell_type": "code",
   "execution_count": 59,
   "metadata": {},
   "outputs": [
    {
     "name": "stdout",
     "output_type": "stream",
     "text": [
      "1\n",
      "{2, 3, 4, 5}\n",
      "{4}\n"
     ]
    }
   ],
   "source": [
    "#pop() - removes the last element of the function\n",
    "#discard() - removes the specific item in the set and does not through error\n",
    "\n",
    "a = {1,2,3,4,5}\n",
    "b = {3,4}\n",
    "\n",
    "print(a.pop())\n",
    "b.discard(3)\n",
    "print(a)\n",
    "print(b)\n"
   ]
  },
  {
   "cell_type": "code",
   "execution_count": 23,
   "metadata": {},
   "outputs": [
    {
     "name": "stdout",
     "output_type": "stream",
     "text": [
      "{1, 2, 3, 4, 5, 6}\n",
      "{3, 4}\n"
     ]
    }
   ],
   "source": [
    "#union and intersection functions\n",
    "a = {1,2,3,4}\n",
    "b = {3,4,5,6}\n",
    "\n",
    "print(a.union(b))\n",
    "print(a.intersection(b)) #print(a&b) - alternative method"
   ]
  },
  {
   "cell_type": "code",
   "execution_count": 25,
   "metadata": {},
   "outputs": [
    {
     "name": "stdout",
     "output_type": "stream",
     "text": [
      "{3, 4}\n",
      "{3, 4, 5, 6}\n"
     ]
    }
   ],
   "source": [
    "#intersection_update() - updates the set with the intesection of itself and another\n",
    "\n",
    "a = {1,2,3,4}\n",
    "b = {3,4,5,6}\n",
    "\n",
    "a.intersection_update(b)\n",
    "print(a)\n",
    "print(b)"
   ]
  },
  {
   "cell_type": "code",
   "execution_count": 27,
   "metadata": {},
   "outputs": [
    {
     "name": "stdout",
     "output_type": "stream",
     "text": [
      "{1, 2}\n",
      "{5, 6}\n"
     ]
    }
   ],
   "source": [
    "#difference() - removes the common values and print common vales of a set\n",
    "\n",
    "a = {1,2,3,4}\n",
    "b = {3,4,5,6}\n",
    "\n",
    "print(a.difference(b)) #print(a-b) - alternative method\n",
    "print(b.difference(a))"
   ]
  },
  {
   "cell_type": "code",
   "execution_count": 30,
   "metadata": {},
   "outputs": [
    {
     "name": "stdout",
     "output_type": "stream",
     "text": [
      "{1, 2}\n",
      "{3, 4, 5, 6}\n"
     ]
    }
   ],
   "source": [
    "#difference() - removes the common values and updates the set\n",
    "\n",
    "a = {1,2,3,4}\n",
    "b = {3,4,5,6}\n",
    "\n",
    "a.difference_update(b)\n",
    "print(a)\n",
    "print(b)"
   ]
  },
  {
   "cell_type": "code",
   "execution_count": 31,
   "metadata": {},
   "outputs": [
    {
     "name": "stdout",
     "output_type": "stream",
     "text": [
      "{1, 2, 5, 6}\n",
      "{1, 2, 5, 6}\n"
     ]
    }
   ],
   "source": [
    "#symmetric_difference() - prints the symmetric difference of two sets as a new set\n",
    "\n",
    "a = {1,2,3,4}\n",
    "b = {3,4,5,6}\n",
    "\n",
    "print(a.symmetric_difference(b)) #print(a^b) - alternative method\n",
    "print(b.symmetric_difference(a))"
   ]
  },
  {
   "cell_type": "code",
   "execution_count": 33,
   "metadata": {},
   "outputs": [
    {
     "name": "stdout",
     "output_type": "stream",
     "text": [
      "{1, 2, 5, 6}\n",
      "{3, 4, 5, 6}\n"
     ]
    }
   ],
   "source": [
    "#symmetric_difference_update() - prints the symmetric difference of two sets and updates the set\n",
    "\n",
    "a = {1,2,3,4}\n",
    "b = {3,4,5,6}\n",
    "\n",
    "a.symmetric_difference_update(b)\n",
    "print(a)\n",
    "print(b)"
   ]
  },
  {
   "cell_type": "code",
   "execution_count": 35,
   "metadata": {},
   "outputs": [
    {
     "name": "stdout",
     "output_type": "stream",
     "text": [
      "True\n",
      "False\n"
     ]
    }
   ],
   "source": [
    "#isdisjoint() - true if two sets have null intersection\n",
    "\n",
    "a = {1,2,3}\n",
    "b = {4,5,6}\n",
    "\n",
    "print(a.isdisjoint(b))\n",
    "\n",
    "c = {1,2,3,4}\n",
    "d = {3,4,5,6}\n",
    "\n",
    "print(c.isdisjoint(d))\n"
   ]
  },
  {
   "cell_type": "code",
   "execution_count": 38,
   "metadata": {},
   "outputs": [
    {
     "name": "stdout",
     "output_type": "stream",
     "text": [
      "True\n",
      "False\n"
     ]
    }
   ],
   "source": [
    "#issubset() - retruns true if the set is subset of another set\n",
    "\n",
    "a = {1,2,3,4,5}\n",
    "b = {3,4}\n",
    "\n",
    "print(b.issubset(a))\n",
    "\n",
    "\n",
    "c = {1,2,3}\n",
    "d = {4,5,6}\n",
    "\n",
    "print(c.issubset(d))\n"
   ]
  },
  {
   "cell_type": "code",
   "execution_count": 40,
   "metadata": {},
   "outputs": [
    {
     "name": "stdout",
     "output_type": "stream",
     "text": [
      "True\n",
      "False\n"
     ]
    }
   ],
   "source": [
    "#issuperset() - retruns true if the set is superset of another set\n",
    "a = {1,2,3,4,5}\n",
    "b = {3,4}\n",
    "\n",
    "print(a.issuperset(b))\n",
    "\n",
    "c = {1,2,3}\n",
    "d = {4,5,6}\n",
    "\n",
    "print(c.issuperset(d))"
   ]
  },
  {
   "cell_type": "code",
   "execution_count": 44,
   "metadata": {},
   "outputs": [
    {
     "name": "stdout",
     "output_type": "stream",
     "text": [
      "True\n"
     ]
    }
   ],
   "source": [
    "#all() - retruns true if all the elements of the set are true\\\n",
    "\n",
    "a = {1,2,3,4,5,}\n",
    "print(all(s)) "
   ]
  },
  {
   "cell_type": "code",
   "execution_count": 46,
   "metadata": {},
   "outputs": [
    {
     "name": "stdout",
     "output_type": "stream",
     "text": [
      "[87, 'xyz']\n"
     ]
    }
   ],
   "source": [
    "#nested set - a set containing another set\n",
    "\n",
    "L = [12,13,14,'abc',[87,'xyz'],1,2,3]\n",
    "print(L[4])"
   ]
  },
  {
   "cell_type": "code",
   "execution_count": 49,
   "metadata": {},
   "outputs": [
    {
     "name": "stdout",
     "output_type": "stream",
     "text": [
      "{1, 3}\n"
     ]
    }
   ],
   "source": [
    "#set Comprehension\n",
    "\n",
    "res = {s for s in [1,2,3] if s % 2}\n",
    "print(res)"
   ]
  },
  {
   "cell_type": "code",
   "execution_count": null,
   "metadata": {},
   "outputs": [],
   "source": []
  }
 ],
 "metadata": {
  "kernelspec": {
   "display_name": "Python 3",
   "language": "python",
   "name": "python3"
  },
  "language_info": {
   "codemirror_mode": {
    "name": "ipython",
    "version": 3
   },
   "file_extension": ".py",
   "mimetype": "text/x-python",
   "name": "python",
   "nbconvert_exporter": "python",
   "pygments_lexer": "ipython3",
   "version": "3.10.9"
  },
  "orig_nbformat": 4,
  "vscode": {
   "interpreter": {
    "hash": "617fc039d8d41a1af0ed5d6dd29df36931f157103129539c952c88a36edd0ae0"
   }
  }
 },
 "nbformat": 4,
 "nbformat_minor": 2
}
