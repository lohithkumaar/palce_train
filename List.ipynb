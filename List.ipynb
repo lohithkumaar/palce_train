{
 "cells": [
  {
   "attachments": {},
   "cell_type": "markdown",
   "metadata": {},
   "source": [
    "Lists"
   ]
  },
  {
   "attachments": {},
   "cell_type": "markdown",
   "metadata": {},
   "source": [
    "Lists are used to store multiple items in a single variable.\n"
   ]
  },
  {
   "attachments": {},
   "cell_type": "markdown",
   "metadata": {},
   "source": [
    "Lists are Ordered, Changable and allow Duplicates"
   ]
  },
  {
   "cell_type": "code",
   "execution_count": 3,
   "metadata": {},
   "outputs": [
    {
     "name": "stdout",
     "output_type": "stream",
     "text": [
      "['apple', 'banana', 'cherry', 'apple']\n",
      "<class 'list'>\n"
     ]
    }
   ],
   "source": [
    "# Creating a List\n",
    "\n",
    "thislist = [\"apple\", \"banana\", \"cherry\", \"apple\"]\n",
    "print(thislist)\n",
    "print(type(thislist))"
   ]
  },
  {
   "cell_type": "code",
   "execution_count": 12,
   "metadata": {},
   "outputs": [
    {
     "name": "stdout",
     "output_type": "stream",
     "text": [
      "['32', '56', '25', '45']\n"
     ]
    }
   ],
   "source": [
    "# input to the list\n",
    "\n",
    "list = []\n",
    "\n",
    "n = int(input(\"Enter the number of elements: \"))\n",
    "\n",
    "for i in range(0, n):\n",
    "    element = input()\n",
    "\n",
    "    list.append(element)\n",
    "\n",
    "print(list)\n"
   ]
  },
  {
   "attachments": {},
   "cell_type": "markdown",
   "metadata": {},
   "source": [
    "Methods"
   ]
  },
  {
   "cell_type": "code",
   "execution_count": 13,
   "metadata": {},
   "outputs": [
    {
     "name": "stdout",
     "output_type": "stream",
     "text": [
      "['apple', 1, 2, 'Ford', 'Rich']\n",
      "['apple', 1, 2, 'Ford', 'Rich', 'Car']\n",
      "['apple', 1, 2, 'Ford', 'Rich', 'Car', 25]\n"
     ]
    }
   ],
   "source": [
    "# append() - add elements to the list\n",
    "\n",
    "list = [\"apple\", 1, 2, \"Ford\", \"Rich\"]\n",
    "\n",
    "print(list)\n",
    "\n",
    "list.append(\"Car\")\n",
    "\n",
    "print(list)\n",
    "\n",
    "list.append(25)\n",
    "\n",
    "print(list)\n"
   ]
  },
  {
   "cell_type": "code",
   "execution_count": 14,
   "metadata": {},
   "outputs": [
    {
     "name": "stdout",
     "output_type": "stream",
     "text": [
      "['apple', 1, 2, 'Ford', 'Rich', 'Car', 25]\n",
      "[]\n"
     ]
    }
   ],
   "source": [
    "#clear() - clears all the elements in the list\n",
    "\n",
    "list1 = ['apple', 1, 2, 'Ford', 'Rich', 'Car', 25]\n",
    "\n",
    "print(list1)\n",
    "\n",
    "list1.clear()\n",
    "\n",
    "print(list1)"
   ]
  },
  {
   "cell_type": "code",
   "execution_count": 15,
   "metadata": {},
   "outputs": [
    {
     "name": "stdout",
     "output_type": "stream",
     "text": [
      "['apple', 1, 2, 'Car', 25, 'apple']\n",
      "['apple', 1, 2, 'Car', 25, 'apple']\n"
     ]
    }
   ],
   "source": [
    "#Copy() - it copies the elements to another array\n",
    "\n",
    "list1 = ['apple', 1, 2, 'Car', 25, 'apple']\n",
    "\n",
    "print(list1)\n",
    "\n",
    "li = list1.copy()\n",
    "\n",
    "print(li)"
   ]
  },
  {
   "cell_type": "code",
   "execution_count": 17,
   "metadata": {},
   "outputs": [
    {
     "name": "stdout",
     "output_type": "stream",
     "text": [
      "3\n",
      "2\n"
     ]
    }
   ],
   "source": [
    "#count() - print the number of times a specific value is repeated\n",
    "\n",
    "list3=['apple', 4, 2, 'Ford', 'Rich', 'Car', 25, 4, 5, 4, 6, 7, 'apple']\n",
    "\n",
    "print(list3.count(4))\n",
    "\n",
    "print(list3.count('apple'))"
   ]
  },
  {
   "cell_type": "code",
   "execution_count": 18,
   "metadata": {},
   "outputs": [
    {
     "name": "stdout",
     "output_type": "stream",
     "text": [
      "['apple', 4, 2, 'Ford', 1, 2, 3, 'GTR']\n"
     ]
    }
   ],
   "source": [
    "# extend() - all all the element of a list to the end of current list\n",
    "\n",
    "li1=['apple', 4, 2, 'Ford']\n",
    "\n",
    "li2=[1, 2, 3, 'GTR']\n",
    "\n",
    "li1.extend(li2) # adds all the elements of list1 to list2\n",
    "\n",
    "print(li1)"
   ]
  },
  {
   "cell_type": "code",
   "execution_count": 20,
   "metadata": {},
   "outputs": [
    {
     "name": "stdout",
     "output_type": "stream",
     "text": [
      "2\n",
      "0\n"
     ]
    }
   ],
   "source": [
    "#index() - index value of the specified element in the list\n",
    "\n",
    "list4 = ['apple', 13, 45, 'Ford', 'Rich', 'Car']\n",
    "\n",
    "print(list4.index(45))\n",
    "print(list4.index('apple'))"
   ]
  },
  {
   "cell_type": "code",
   "execution_count": 21,
   "metadata": {},
   "outputs": [
    {
     "name": "stdout",
     "output_type": "stream",
     "text": [
      "['apple', 'orange', 'banana', 'cherry']\n"
     ]
    }
   ],
   "source": [
    "#insert() - adds the element to the specified place index value\n",
    "\n",
    "fruits = ['apple', 'banana', 'cherry']\n",
    "\n",
    "fruits.insert(1, \"orange\")\n",
    "\n",
    "print(fruits)"
   ]
  },
  {
   "cell_type": "code",
   "execution_count": 22,
   "metadata": {},
   "outputs": [
    {
     "name": "stdout",
     "output_type": "stream",
     "text": [
      "['orange', 'banana', 'cherry']\n",
      "['orange', 'banana']\n"
     ]
    }
   ],
   "source": [
    "#pop() - removes the elemnt in the specified index value\n",
    "\n",
    "fruits=['apple', 'orange', 'banana', 'cherry']\n",
    "\n",
    "fruits.pop(0)\n",
    "\n",
    "print(fruits)\n",
    "\n",
    "fruits.pop(2)\n",
    "\n",
    "print(fruits)"
   ]
  },
  {
   "cell_type": "code",
   "execution_count": 24,
   "metadata": {},
   "outputs": [
    {
     "name": "stdout",
     "output_type": "stream",
     "text": [
      "[13, 45, 'Ford', 'Rich', 'Car']\n"
     ]
    }
   ],
   "source": [
    "#remove() - removes the specifed element\n",
    "\n",
    "list4 = ['apple', 13, 45, 'Ford', 'Rich', 'Car']\n",
    "\n",
    "list4.remove('apple')\n",
    "\n",
    "print(list4)"
   ]
  },
  {
   "cell_type": "code",
   "execution_count": 26,
   "metadata": {},
   "outputs": [
    {
     "name": "stdout",
     "output_type": "stream",
     "text": [
      "['orange', 'cherry', 'banana', 'apple']\n"
     ]
    }
   ],
   "source": [
    "# reverse() - reverse the order of the list\n",
    "\n",
    "fruits = ['apple', 'banana', 'cherry', 'orange']\n",
    "\n",
    "fruits.reverse()\n",
    "\n",
    "print(fruits)"
   ]
  },
  {
   "cell_type": "code",
   "execution_count": 28,
   "metadata": {},
   "outputs": [
    {
     "name": "stdout",
     "output_type": "stream",
     "text": [
      "['Car', 'Ford', 'Rich', 'apple']\n"
     ]
    }
   ],
   "source": [
    "# sort() - sort the list\n",
    "\n",
    "list4 = ['apple', 'Ford', 'Rich', 'Car'] # only for int or string not a combination of both\n",
    "\n",
    "list4.sort()\n",
    "\n",
    "print(list4)"
   ]
  },
  {
   "attachments": {},
   "cell_type": "markdown",
   "metadata": {},
   "source": [
    "Comprehension"
   ]
  },
  {
   "cell_type": "code",
   "execution_count": 29,
   "metadata": {},
   "outputs": [
    {
     "name": "stdout",
     "output_type": "stream",
     "text": [
      "['apple', 'banana', 'mango']\n"
     ]
    }
   ],
   "source": [
    "fruits = [\"apple\", \"banana\", \"cherry\", \"kiwi\", \"mango\"]\n",
    "\n",
    "newlist = [x for x in fruits if \"a\" in x] # add it to this list only if \"a\" character exist in the word\n",
    "\n",
    "print(newlist)"
   ]
  },
  {
   "attachments": {},
   "cell_type": "markdown",
   "metadata": {},
   "source": [
    "Question"
   ]
  },
  {
   "cell_type": "code",
   "execution_count": 18,
   "metadata": {},
   "outputs": [
    {
     "name": "stdout",
     "output_type": "stream",
     "text": [
      "kumrwmy\n",
      "ymwrmuk\n",
      "ymw@r$m@uk\n"
     ]
    }
   ],
   "source": [
    "\n",
    "# convert the below string without changing the position of the special charachter\n",
    "# kum@r$w@my converted to ymw@r$m@uk\n",
    "\n",
    "alpha=\"abcdefghijklmnopqrstuvwxyz\"\n",
    "s='kum@r$w@my'\n",
    "x=\"\"\n",
    "\n",
    "for i in s:\n",
    "    if i in alpha:\n",
    "        x+=i\n",
    "print(x)\n",
    "r = x[::-1]\n",
    "out=\"\"\n",
    "j=0\n",
    "print(r)\n",
    "for i in s:\n",
    "    if i not in alpha:\n",
    "        out+=i\n",
    "    else:\n",
    "        out+=r[j]\n",
    "        j+=1\n",
    "\n",
    "print(out)\n",
    "\n",
    "\n",
    "\n"
   ]
  },
  {
   "cell_type": "code",
   "execution_count": null,
   "metadata": {},
   "outputs": [],
   "source": []
  }
 ],
 "metadata": {
  "kernelspec": {
   "display_name": "Python 3",
   "language": "python",
   "name": "python3"
  },
  "language_info": {
   "codemirror_mode": {
    "name": "ipython",
    "version": 3
   },
   "file_extension": ".py",
   "mimetype": "text/x-python",
   "name": "python",
   "nbconvert_exporter": "python",
   "pygments_lexer": "ipython3",
   "version": "3.10.9 (tags/v3.10.9:1dd9be6, Dec  6 2022, 20:01:21) [MSC v.1934 64 bit (AMD64)]"
  },
  "orig_nbformat": 4,
  "vscode": {
   "interpreter": {
    "hash": "617fc039d8d41a1af0ed5d6dd29df36931f157103129539c952c88a36edd0ae0"
   }
  }
 },
 "nbformat": 4,
 "nbformat_minor": 2
}
