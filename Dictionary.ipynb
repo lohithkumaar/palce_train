{
 "cells": [
  {
   "attachments": {},
   "cell_type": "markdown",
   "metadata": {},
   "source": [
    "Dictionary"
   ]
  },
  {
   "attachments": {},
   "cell_type": "markdown",
   "metadata": {},
   "source": [
    "Dictionaries are used to store data values in key:value pairs.\n",
    "\n",
    "A dictionary is a collection which is ordered*, changeable and do not allow duplicates"
   ]
  },
  {
   "cell_type": "code",
   "execution_count": 6,
   "metadata": {},
   "outputs": [
    {
     "name": "stdout",
     "output_type": "stream",
     "text": [
      "{'REVA': 'University', 'ECE': 'Branch'}\n",
      "<class 'dict'>\n"
     ]
    }
   ],
   "source": [
    "#Creating Dictionary\n",
    "#Syntax - dictionary_name = {key: value}\n",
    "dict1 = {\"REVA\":\"University\", \"ECE\":\"Branch\"}\n",
    "print(dict1)\n",
    "print(type(dict1))"
   ]
  },
  {
   "cell_type": "code",
   "execution_count": 9,
   "metadata": {},
   "outputs": [
    {
     "name": "stdout",
     "output_type": "stream",
     "text": [
      "{'model': 'ford', 'name': 'Mustang'}\n"
     ]
    }
   ],
   "source": [
    "# input to dictionary\n",
    "n = int(input(\"Enter the number of elements in the dict: \"))\n",
    "\n",
    "dict = {}\n",
    "\n",
    "for i in range(n):\n",
    "    key = input(\"Enter Key: \")\n",
    "    value = input(\"Enter Value: \")\n",
    "\n",
    "    dict[key] = value\n",
    "\n",
    "print(dict)"
   ]
  },
  {
   "cell_type": "code",
   "execution_count": 4,
   "metadata": {},
   "outputs": [
    {
     "name": "stdout",
     "output_type": "stream",
     "text": [
      "Ford\n"
     ]
    }
   ],
   "source": [
    "#Accessing a Dictionary\n",
    "#Dictionaty os accessed by the keys\n",
    "car = { \"brand\": \"Ford\", \"model\": \"Mustang\", \"year\": 1964}\n",
    "\n",
    "x = car[\"brand\"]\n",
    "\n",
    "print(x)\n",
    "#Dictionary can be accessed by the key also\n"
   ]
  },
  {
   "attachments": {},
   "cell_type": "markdown",
   "metadata": {},
   "source": [
    "Methods"
   ]
  },
  {
   "cell_type": "code",
   "execution_count": 11,
   "metadata": {},
   "outputs": [
    {
     "name": "stdout",
     "output_type": "stream",
     "text": [
      "{'brand': 'Ford', 'model': 'Mustang', 'year': 1964}\n",
      "{}\n"
     ]
    }
   ],
   "source": [
    "#clear - clears all the elements in the dictionary\n",
    "\n",
    "dict2 = { \"brand\": \"Ford\", \"model\": \"Mustang\", \"year\": 1964}\n",
    "print(dict2)\n",
    "\n",
    "dict2.clear()\n",
    "\n",
    "print(dict2)"
   ]
  },
  {
   "cell_type": "code",
   "execution_count": 13,
   "metadata": {},
   "outputs": [
    {
     "name": "stdout",
     "output_type": "stream",
     "text": [
      "{'Pname': 'John', 'age': 36, 'country': 'Norway'}\n",
      "{'Pname': 'John', 'age': 36, 'country': 'Norway'}\n"
     ]
    }
   ],
   "source": [
    "# copy() - copy the dictionary\n",
    "thisdict = {\"Pname\":\"John\", \"age\":36, \"country\" : \"Norway\"}\n",
    "print(thisdict)\n",
    "this_copy = thisdict.copy()\n",
    "print(this_copy)\n",
    "\n",
    "\n"
   ]
  },
  {
   "cell_type": "code",
   "execution_count": 16,
   "metadata": {},
   "outputs": [
    {
     "name": "stdout",
     "output_type": "stream",
     "text": [
      "36\n",
      "Norway\n"
     ]
    }
   ],
   "source": [
    "#get() - gives the specific key \n",
    "\n",
    "thisdict = {\"Pname\":\"John\", \"age\":36, \"country\" : \"Norway\"}\n",
    "\n",
    "print(thisdict.get(\"age\"))\n",
    "print(thisdict.get(\"country\"))"
   ]
  },
  {
   "cell_type": "code",
   "execution_count": 19,
   "metadata": {},
   "outputs": [
    {
     "name": "stdout",
     "output_type": "stream",
     "text": [
      "{'a': 1, 'b': 1, 'c': 1}\n"
     ]
    }
   ],
   "source": [
    "#fromkey() - return the specified key and the value\n",
    "alphabets = {'a', 'b', 'c'}\n",
    "\n",
    "number = 1\n",
    "\n",
    "dict = dict.fromkeys(alphabets,number)\n",
    "\n",
    "print(dict)\n",
    "\n"
   ]
  },
  {
   "cell_type": "code",
   "execution_count": 20,
   "metadata": {},
   "outputs": [
    {
     "name": "stdout",
     "output_type": "stream",
     "text": [
      "dict_items([('Pname', 'John'), ('age', 36), ('country', 'Norway')])\n"
     ]
    }
   ],
   "source": [
    "# iteams() - prints all the elements in the dictionary\n",
    "\n",
    "thisdict = {\"Pname\":\"John\", \"age\":36, \"country\" : \"Norway\"}\n",
    "\n",
    "x=thisdict.items()\n",
    "\n",
    "print(x)\n",
    "\n"
   ]
  },
  {
   "cell_type": "code",
   "execution_count": 23,
   "metadata": {},
   "outputs": [
    {
     "name": "stdout",
     "output_type": "stream",
     "text": [
      "dict_keys(['Pname', 'age', 'country'])\n"
     ]
    }
   ],
   "source": [
    "#keys() - gives all the list of key in the form of list\n",
    "\n",
    "thisdict = {\"Pname\":\"John\", \"age\":36, \"country\" : \"Norway\"}\n",
    "\n",
    "x = thisdict.keys()\n",
    "\n",
    "print(x)"
   ]
  },
  {
   "cell_type": "code",
   "execution_count": 24,
   "metadata": {},
   "outputs": [
    {
     "name": "stdout",
     "output_type": "stream",
     "text": [
      "dict_values(['John', 36, 'Norway'])\n"
     ]
    }
   ],
   "source": [
    "#values() - gives all the list of values in the form of list\n",
    "\n",
    "thisdict = {\"Pname\":\"John\", \"age\":36, \"country\" : \"Norway\"}\n",
    "\n",
    "x = thisdict.values()\n",
    "\n",
    "print(x)"
   ]
  },
  {
   "cell_type": "code",
   "execution_count": 27,
   "metadata": {},
   "outputs": [
    {
     "name": "stdout",
     "output_type": "stream",
     "text": [
      "Ford\n"
     ]
    }
   ],
   "source": [
    "#setdefualts() - returns the value of the specified key\n",
    "\n",
    "car = { \"brand\": \"Ford\", \"model\": \"Mustang\", \"year\": 1964}\n",
    "\n",
    "x = car.setdefault(\"brand\")\n",
    "\n",
    "print(x)\n",
    "\n"
   ]
  },
  {
   "cell_type": "code",
   "execution_count": 5,
   "metadata": {},
   "outputs": [
    {
     "name": "stdout",
     "output_type": "stream",
     "text": [
      "{1: 'hi', 'a': 123, 100: 32.4}\n",
      "{1: 'hi', 100: 32.4}\n"
     ]
    }
   ],
   "source": [
    "#pop() - this function removes the element of the set if it is a\n",
    "\n",
    "d = {1:\"hi\", 'a':123,100:32.4}\n",
    "print(d)\n",
    "d.pop('a') # 'a' is deleted\n",
    "print(d)"
   ]
  },
  {
   "cell_type": "code",
   "execution_count": 28,
   "metadata": {},
   "outputs": [
    {
     "name": "stdout",
     "output_type": "stream",
     "text": [
      "{1: 'hi', 'a': 123, 100: 32.4}\n",
      "{1: 'hi', 'a': 123}\n"
     ]
    }
   ],
   "source": [
    "# popiteam() - removes the last inserted key-value pair\n",
    "d = {1:\"hi\", 'a':123,100:32.4}\n",
    "print(d)\n",
    "d.popitem() # 'a' is deleted\n",
    "print(d)"
   ]
  },
  {
   "cell_type": "code",
   "execution_count": 29,
   "metadata": {},
   "outputs": [
    {
     "name": "stdout",
     "output_type": "stream",
     "text": [
      "{'brand': 'Ford', 'model': 'Mustang', 'year': 1964, 'color': 'White'}\n"
     ]
    }
   ],
   "source": [
    "# update() - updates the specifed key value pair\n",
    "\n",
    "car = {\"brand\": \"Ford\", \"model\": \"Mustang\", \"year\": 1964}\n",
    "\n",
    "car.update({\"color\": \"White\"})\n",
    "\n",
    "print(car)"
   ]
  },
  {
   "cell_type": "code",
   "execution_count": 30,
   "metadata": {},
   "outputs": [
    {
     "name": "stdout",
     "output_type": "stream",
     "text": [
      "{1: 1, 2: 4, 3: 9, 4: 16, 5: 25, 6: 36, 7: 49, 8: 64, 9: 81, 10: 100}\n"
     ]
    }
   ],
   "source": [
    "# dictionary comprehension example\n",
    "#Syntax - dictionary = {key: value for vars in iterable}\n",
    "square_dict = {num: num*num for num in range(1, 11)}\n",
    "print(square_dict)\n"
   ]
  },
  {
   "cell_type": "code",
   "execution_count": null,
   "metadata": {},
   "outputs": [],
   "source": []
  }
 ],
 "metadata": {
  "kernelspec": {
   "display_name": "Python 3",
   "language": "python",
   "name": "python3"
  },
  "language_info": {
   "codemirror_mode": {
    "name": "ipython",
    "version": 3
   },
   "file_extension": ".py",
   "mimetype": "text/x-python",
   "name": "python",
   "nbconvert_exporter": "python",
   "pygments_lexer": "ipython3",
   "version": "3.10.9 (tags/v3.10.9:1dd9be6, Dec  6 2022, 20:01:21) [MSC v.1934 64 bit (AMD64)]"
  },
  "orig_nbformat": 4,
  "vscode": {
   "interpreter": {
    "hash": "617fc039d8d41a1af0ed5d6dd29df36931f157103129539c952c88a36edd0ae0"
   }
  }
 },
 "nbformat": 4,
 "nbformat_minor": 2
}
